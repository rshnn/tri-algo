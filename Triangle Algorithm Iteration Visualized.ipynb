{
 "cells": [
  {
   "cell_type": "markdown",
   "metadata": {},
   "source": [
    "# Triangle Algorithm Iteration Visualized "
   ]
  },
  {
   "cell_type": "markdown",
   "metadata": {},
   "source": [
    "+ The triangle algorithm is a fuzzy algorithm for solving the convex hull problem in polynomial time \n",
    "+ It was developed by Kalantari, PhD. (Rutgers University)"
   ]
  },
  {
   "cell_type": "markdown",
   "metadata": {},
   "source": [
    "## The convex hull membership problem\n",
    "The convex hull of a set of points is the minimal convex set containing the set.  \n",
    "  \n",
    "Given a set of points $S = \\lbrace v_1...v_n\\rbrace \\in R^m$ and a point $p \\in R^m$, is p in the convex hull of $S$?  \n"
   ]
  },
  {
   "cell_type": "markdown",
   "metadata": {},
   "source": [
    "## The Triangle Algorithm\n",
    "Start with a point, $p'$ that we know is in the convex hull of S.  Iterate through all the vertices to find a vertex that is closer to $p$ than it is to $p'$.  This vertex is a p-pivot.  \n",
    "  \n",
    "If no such vertex exists, then $p'$ is a p-witness and we can say that p is not in the convex hull of $S$. \n",
    "\n",
    "Otherwise, find the point along the line segment, $\\overline{v_{pivot}p'}$, that is closest to $p$.  Let this point be $p''$.  With $\\epsilon-approximation, we could output that $p$ is in the convex hull of $S$ if the distance between the.\n",
    "\n",
    "Repeat the algorithm.\n",
    "\n",
    "Has worst case complexity of $O(nm\\epsilon^{-2})$\n",
    "\n",
    "---\n",
    "**pivot** : $v_j$ is a $p$-pivot for $p'$ if  \n",
    "$$\n",
    "d(p', v_j) \\geq d(p, v_j)\n",
    "$$\n",
    "That is, the vertex $v_i$ is closer to $p$ than it is to $p_i$ \n",
    "\n",
    "---  \n",
    "  \n",
    "**witness** : $p'$ is a p-witness if \n",
    "$$\n",
    "d(p', v_j) < d(p, v_j), \\forall v_i \\in S\n",
    "$$\n",
    "That is, the point $p_i$ is closer to all the vertices in $S$ than $p$ is.\n",
    "\n"
   ]
  },
  {
   "cell_type": "code",
   "execution_count": null,
   "metadata": {},
   "outputs": [],
   "source": []
  },
  {
   "cell_type": "code",
   "execution_count": null,
   "metadata": {},
   "outputs": [],
   "source": []
  },
  {
   "cell_type": "code",
   "execution_count": null,
   "metadata": {},
   "outputs": [],
   "source": []
  },
  {
   "cell_type": "code",
   "execution_count": null,
   "metadata": {},
   "outputs": [],
   "source": []
  },
  {
   "cell_type": "code",
   "execution_count": null,
   "metadata": {},
   "outputs": [],
   "source": []
  }
 ],
 "metadata": {
  "kernelspec": {
   "display_name": "Python 2",
   "language": "python",
   "name": "python2"
  },
  "language_info": {
   "codemirror_mode": {
    "name": "ipython",
    "version": 2
   },
   "file_extension": ".py",
   "mimetype": "text/x-python",
   "name": "python",
   "nbconvert_exporter": "python",
   "pygments_lexer": "ipython2",
   "version": "2.7.14"
  }
 },
 "nbformat": 4,
 "nbformat_minor": 2
}
